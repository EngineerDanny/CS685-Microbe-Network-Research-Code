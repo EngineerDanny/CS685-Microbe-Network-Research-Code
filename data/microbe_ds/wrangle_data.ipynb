{
 "cells": [
  {
   "cell_type": "code",
   "execution_count": null,
   "metadata": {},
   "outputs": [],
   "source": [
    "import pandas as pd\n",
    "import numpy as np\n",
    "\n",
    "CV = 5\n",
    "TOP_COLS = 30\n",
    "TOP_GRPS = 16"
   ]
  },
  {
   "cell_type": "markdown",
   "metadata": {},
   "source": [
    "## HMPv13_otu_table"
   ]
  },
  {
   "cell_type": "code",
   "execution_count": null,
   "metadata": {},
   "outputs": [],
   "source": [
    "# Project ID : 1928\n",
    "# Subject ID: SRS \n",
    "# Experiment ID: SRX\n",
    "# Run ID: SRR\n",
    "\n",
    "df = pd.read_csv('/projects/genomic-ml/da2343/ml_project_1/data/microbe_ds/HMPv13_otu_table.csv').T\n",
    "#df = pd.read_csv('/projects/genomic-ml/da2343/ml_project_1/data/microbe_ds/HMPv35_otu_table.csv').T\n",
    "# Convert the index to a series and split it\n",
    "id_df = df.index.to_series().str.split('.', expand=True)\n",
    "# Rename the columns as per your requirement\n",
    "id_df.columns = ['Project_ID', 'SRS_ID', 'SRX_ID', 'SRR_ID']\n",
    "# Now 'id_df' has the separate columns. You can join this back to your original DataFrame if needed\n",
    "# join infront of the df\n",
    "df = df.join(id_df).reset_index(drop=True)\n",
    "df = df.sort_values('SRX_ID')\n",
    "# drop the columns that are not needed\n",
    "df = df.drop(['Project_ID', 'SRS_ID', 'SRR_ID'], axis=1)\n",
    "# rename the SRX_ID column to Sample_ID\n",
    "df = df.rename(columns={'SRX_ID': 'Group_ID'}).reset_index(drop=True)\n",
    "\n",
    "# give the group ID a number each\n",
    "df['Group_ID'] = (pd.factorize(df['Group_ID'])[0] + 1)\n",
    "\n",
    "# drop the Group_ID column\n",
    "# df = df.drop(['Group_ID'], axis=1)\n",
    "# df = np.log(df + 1)\n",
    "# df.to_csv('/projects/genomic-ml/da2343/ml_project_1/data/microbe_ds/HMPv13_otu_table_log.csv')\n",
    "df"
   ]
  },
  {
   "cell_type": "code",
   "execution_count": null,
   "metadata": {},
   "outputs": [],
   "source": [
    "df['Group_ID'] = df['Group_ID'].astype(int)\n",
    "# df = df[df['Group_ID'] <= TOP_GRPS]\n",
    "\n",
    "column_sums = df.sum(axis=0).sort_values(ascending=False)\n",
    "top_20_columns = column_sums.head(TOP_COLS).index\n",
    "df_selected = df[top_20_columns]\n",
    "df_selected = np.log10(df_selected + 1)\n",
    "df_selected['Group_ID'] = df['Group_ID']\n",
    "df_selected"
   ]
  },
  {
   "cell_type": "code",
   "execution_count": null,
   "metadata": {},
   "outputs": [],
   "source": [
    "df_selected"
   ]
  },
  {
   "cell_type": "code",
   "execution_count": null,
   "metadata": {},
   "outputs": [],
   "source": [
    "min_group_size = df_selected['Group_ID'].value_counts().min()\n",
    "min_group_size"
   ]
  },
  {
   "cell_type": "code",
   "execution_count": null,
   "metadata": {},
   "outputs": [],
   "source": [
    "# First, find the minimum group size\n",
    "min_group_size = df_selected['Group_ID'].value_counts().min()\n",
    "# but min_group_size should be a multiple of the cv constant which is 5\n",
    "min_group_size = min_group_size - (min_group_size % CV)\n",
    "# Now, use groupby and sample to get equal-sized samples from each group\n",
    "equal_samples_df = df_selected.groupby('Group_ID').apply(lambda x: x.sample(min_group_size)).reset_index(drop=True)\n",
    "equal_samples_df"
   ]
  },
  {
   "cell_type": "code",
   "execution_count": null,
   "metadata": {},
   "outputs": [],
   "source": [
    "equal_samples_df.to_csv('/projects/genomic-ml/da2343/ml_project_1/data/microbe_ds/HMPv13_sub_log.csv', index=False)"
   ]
  },
  {
   "cell_type": "markdown",
   "metadata": {},
   "source": [
    "## MovingPictures_otu_table"
   ]
  },
  {
   "cell_type": "code",
   "execution_count": null,
   "metadata": {},
   "outputs": [],
   "source": [
    "df = pd.read_csv('/projects/genomic-ml/da2343/ml_project_1/data/microbe_ds/MovingPictures_otu_table.csv').T\n",
    "id_df = df.index.to_series().str.split('.', expand=True)\n",
    "id_df.columns = ['Project_ID', 'Sample_ID', 'S_Constant', 'Group_ID', 'Sequence_Keyword']\n",
    "df = df.join(id_df).reset_index(drop=True)\n",
    "df = df.sort_values('Group_ID')\n",
    "df = df.drop(['Project_ID', 'Sample_ID', 'S_Constant', 'Sequence_Keyword'], axis=1).reset_index(drop=True)\n",
    "\n",
    "# drop the Group_ID column\n",
    "# df = df.drop(['Group_ID'], axis=1)\n",
    "# df = np.log(df + 1)\n",
    "# df.to_csv('/projects/genomic-ml/da2343/ml_project_1/data/microbe_ds/MovingPictures_otu_table_log.csv')\n",
    "df"
   ]
  },
  {
   "cell_type": "code",
   "execution_count": null,
   "metadata": {},
   "outputs": [],
   "source": [
    "df['Group_ID'] = df['Group_ID'].astype(int)\n",
    "#df = df[df['Group_ID'] <= 3]\n",
    "column_sums = df.sum(axis=0).sort_values(ascending=False)\n",
    "top_20_columns = column_sums.head(TOP_COLS).index\n",
    "df_selected = df[top_20_columns]\n",
    "df_selected = np.log10(df_selected + 1)\n",
    "df_selected['Group_ID'] = df['Group_ID']\n",
    "\n",
    "# First, find the minimum group size\n",
    "min_group_size = df_selected['Group_ID'].value_counts().min()\n",
    "# but min_group_size should be a multiple of the cv constant which is 5\n",
    "min_group_size = min_group_size - (min_group_size % CV)\n",
    "# Now, use groupby and sample to get equal-sized samples from each group\n",
    "equal_samples_df = df_selected.groupby('Group_ID').apply(lambda x: x.sample(min_group_size)).reset_index(drop=True)\n",
    "equal_samples_df"
   ]
  },
  {
   "cell_type": "code",
   "execution_count": null,
   "metadata": {},
   "outputs": [],
   "source": [
    "equal_samples_df.to_csv('/projects/genomic-ml/da2343/ml_project_1/data/microbe_ds/MovingPictures_11_15.csv', index=False)"
   ]
  },
  {
   "cell_type": "markdown",
   "metadata": {},
   "source": [
    "## qa10394_otu_table"
   ]
  },
  {
   "cell_type": "code",
   "execution_count": null,
   "metadata": {},
   "outputs": [],
   "source": [
    "df = pd.read_csv('/projects/genomic-ml/da2343/ml_project_1/data/microbe_ds/qa10394_otu_table.csv').T\n",
    "id_df = df.index.to_series().str.split('.', expand=True)\n",
    "# use only column with index 1\n",
    "id_df = id_df.iloc[:, 1]\n",
    "id_df = id_df.rename('Group_ID')\n",
    "df = df.join(id_df).reset_index(drop=True)\n",
    "df = df.sort_values('Group_ID')\n",
    "df = df[(df.Group_ID != \"BLANK\") & (df.Group_ID != \"mistake\")]\n",
    "df = df.reset_index(drop=True)\n",
    "\n",
    "\n",
    "# drop the Group_ID column\n",
    "#df = df.drop(['Group_ID'], axis=1)\n",
    "#df = np.log(df + 1)\n",
    "#df.to_csv('/projects/genomic-ml/da2343/ml_project_1/data/microbe_ds/qa10394_otu_table_log.csv')\n",
    "df"
   ]
  },
  {
   "cell_type": "code",
   "execution_count": null,
   "metadata": {},
   "outputs": [],
   "source": [
    "df['Group_ID'] = (pd.factorize(df['Group_ID'])[0] + 1)\n",
    "\n",
    "df['Group_ID'] = df['Group_ID'].astype(int)\n",
    "#df = df[df['Group_ID'] <= TOP_GRPS]\n",
    "\n",
    "column_sums = df.sum(axis=0).sort_values(ascending=False)\n",
    "top_20_columns = column_sums.head(TOP_COLS).index\n",
    "df_selected = df[top_20_columns]\n",
    "df_selected = np.log10(df_selected + 1)\n",
    "df_selected['Group_ID'] = df['Group_ID']\n",
    "df_selected"
   ]
  },
  {
   "cell_type": "code",
   "execution_count": null,
   "metadata": {},
   "outputs": [],
   "source": [
    "# First, find the minimum group size\n",
    "min_group_size = df_selected['Group_ID'].value_counts().min()\n",
    "# but min_group_size should be a multiple of the cv constant which is 5\n",
    "min_group_size = min_group_size - (min_group_size % CV)\n",
    "# Now, use groupby and sample to get equal-sized samples from each group\n",
    "equal_samples_df = df_selected.groupby('Group_ID').apply(lambda x: x.sample(min_group_size)).reset_index(drop=True)\n",
    "equal_samples_df"
   ]
  },
  {
   "cell_type": "code",
   "execution_count": null,
   "metadata": {},
   "outputs": [],
   "source": [
    "equal_samples_df.to_csv('/projects/genomic-ml/da2343/ml_project_1/data/microbe_ds/qa10394_11_15.csv', index=False)"
   ]
  },
  {
   "cell_type": "markdown",
   "metadata": {},
   "source": [
    "## TwinsUK_otu_table"
   ]
  },
  {
   "cell_type": "code",
   "execution_count": null,
   "metadata": {},
   "outputs": [],
   "source": [
    "df = pd.read_csv('/projects/genomic-ml/da2343/ml_project_1/data/microbe_ds/TwinsUK_otu_table.csv').T\n",
    "id_df = df.index.to_series().str.split('.', expand=True)\n",
    "id_df = id_df.iloc[:, 1]\n",
    "id_df = id_df.rename('Group_ID')\n",
    "df = df.join(id_df).reset_index(drop=True)\n",
    "df = df.sort_values('Group_ID').reset_index(drop=True)\n",
    "\n",
    "\n",
    "# drop the Group_ID column\n",
    "#df = df.drop(['Group_ID'], axis=1)\n",
    "#df = np.log(df + 1)\n",
    "#df.to_csv('/projects/genomic-ml/da2343/ml_project_1/data/microbe_ds/TwinsUK_otu_table_log.csv')\n",
    "\n",
    "\n",
    "df['Group_ID'] = (pd.factorize(df['Group_ID'])[0] + 1)\n",
    "df['Group_ID'] = df['Group_ID'].astype(int)\n",
    "# df = df[df['Group_ID'] <= TOP_GRPS]\n",
    "\n",
    "\n",
    "\n",
    "column_sums = df.sum(axis=0).sort_values(ascending=False)\n",
    "top_20_columns = column_sums.head(TOP_COLS).index\n",
    "df_selected = df[top_20_columns]\n",
    "df_selected = np.log10(df_selected + 1)\n",
    "df_selected['Group_ID'] = df['Group_ID']\n",
    "df_selected"
   ]
  },
  {
   "cell_type": "code",
   "execution_count": null,
   "metadata": {},
   "outputs": [],
   "source": [
    "# First, find the minimum group size\n",
    "min_group_size = df_selected['Group_ID'].value_counts().min()\n",
    "# but min_group_size should be a multiple of the cv constant which is 5\n",
    "min_group_size = min_group_size - (min_group_size % CV)\n",
    "# Now, use groupby and sample to get equal-sized samples from each group\n",
    "equal_samples_df = df_selected.groupby('Group_ID').apply(lambda x: x.sample(min_group_size)).reset_index(drop=True)\n",
    "equal_samples_df"
   ]
  },
  {
   "cell_type": "code",
   "execution_count": null,
   "metadata": {},
   "outputs": [],
   "source": [
    "equal_samples_df.to_csv('/projects/genomic-ml/da2343/ml_project_1/data/microbe_ds/TwinsUK_11_15.csv', index=False)"
   ]
  },
  {
   "cell_type": "markdown",
   "metadata": {},
   "source": [
    "## NECROMASS"
   ]
  },
  {
   "cell_type": "code",
   "execution_count": null,
   "metadata": {},
   "outputs": [],
   "source": [
    "df = pd.read_csv('/projects/genomic-ml/da2343/ml_project_1/data/microbe_ds/necromass_sub_log_update.csv')\n",
    "df = df.sort_values('Group_ID').reset_index(drop=True)\n",
    "\n",
    "# Exclude Group_ID column when calculating sums\n",
    "numeric_columns = df.drop('Group_ID', axis=1)\n",
    "column_sums = numeric_columns.sum(axis=0).sort_values(ascending=False)\n",
    "\n",
    "# Select top columns and include Group_ID from the start\n",
    "columns_to_keep = list(column_sums.head(TOP_COLS).index) + ['Group_ID']\n",
    "df_selected = df[columns_to_keep].copy()  # Create a clean copy\n",
    "\n",
    "df_selected"
   ]
  },
  {
   "cell_type": "code",
   "execution_count": 8,
   "metadata": {},
   "outputs": [],
   "source": [
    "df_selected.to_csv('/projects/genomic-ml/da2343/ml_project_1/data/microbe_ds/necromass_11_15.csv', index=False)"
   ]
  }
 ],
 "metadata": {
  "kernelspec": {
   "display_name": "cs685",
   "language": "python",
   "name": "python3"
  },
  "language_info": {
   "codemirror_mode": {
    "name": "ipython",
    "version": 3
   },
   "file_extension": ".py",
   "mimetype": "text/x-python",
   "name": "python",
   "nbconvert_exporter": "python",
   "pygments_lexer": "ipython3",
   "version": "3.9.16"
  }
 },
 "nbformat": 4,
 "nbformat_minor": 2
}
