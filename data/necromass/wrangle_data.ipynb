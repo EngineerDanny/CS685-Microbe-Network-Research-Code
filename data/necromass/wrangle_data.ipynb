{
 "cells": [
  {
   "cell_type": "code",
   "execution_count": null,
   "metadata": {},
   "outputs": [],
   "source": [
    "import pandas as pd\n",
    "from sklearn.preprocessing import PowerTransformer"
   ]
  },
  {
   "cell_type": "code",
   "execution_count": null,
   "metadata": {},
   "outputs": [],
   "source": [
    "dataset_list = ['bacteria_rarefied_otu_mapping_PKfixTrimmed', 'fungi_rarefied_otu_mapping_PKfix']\n",
    "\n",
    "for dataset_name in dataset_list:\n",
    "    df = pd.read_csv(f'{dataset_name}.csv')\n",
    "    # drop the following columns: 'Domain', 'Habitat', 'Melanization'\n",
    "    df = df.drop(['Domain', 'Habitat', 'Melanization', 'Sample_ID', 'Necrobag_ID', 'Incubation_time', 'Plot', 'Comp'], axis=1)\n",
    "    df_transformed = pd.DataFrame(PowerTransformer().fit_transform(df), columns=df.columns) \n",
    "    df_transformed.to_csv(f'./{dataset_name}_power_transformed.csv', index=False)"
   ]
  },
  {
   "cell_type": "code",
   "execution_count": null,
   "metadata": {},
   "outputs": [],
   "source": [
    "df_transformed"
   ]
  }
 ],
 "metadata": {
  "kernelspec": {
   "display_name": "cs685",
   "language": "python",
   "name": "python3"
  },
  "language_info": {
   "codemirror_mode": {
    "name": "ipython",
    "version": 3
   },
   "file_extension": ".py",
   "mimetype": "text/x-python",
   "name": "python",
   "nbconvert_exporter": "python",
   "pygments_lexer": "ipython3",
   "version": "3.9.16"
  },
  "orig_nbformat": 4
 },
 "nbformat": 4,
 "nbformat_minor": 2
}
