{
 "cells": [
  {
   "cell_type": "markdown",
   "metadata": {},
   "source": [
    "## Import libraries"
   ]
  },
  {
   "cell_type": "code",
   "execution_count": null,
   "metadata": {},
   "outputs": [],
   "source": [
    "import glob\n",
    "import pandas as pd\n",
    "import numpy as np\n",
    "import plotnine as p9\n",
    "from sklearn.preprocessing import *\n",
    "import matplotlib.pyplot as plt\n",
    "import seaborn as sns"
   ]
  },
  {
   "cell_type": "markdown",
   "metadata": {},
   "source": [
    "## Initialize contants"
   ]
  },
  {
   "cell_type": "code",
   "execution_count": null,
   "metadata": {},
   "outputs": [],
   "source": [
    "root_data_dir = '/projects/genomic-ml/da2343/ml_project_1/data'"
   ]
  },
  {
   "cell_type": "markdown",
   "metadata": {},
   "source": [
    "## Transform OTU data"
   ]
  },
  {
   "cell_type": "code",
   "execution_count": null,
   "metadata": {},
   "outputs": [],
   "source": [
    "# dataset_list = ['baxter_crc_data', 'crohns_data', 'glne007_data', 'global_patterns_data', 'esophagus_data', 'enterotype_data', 'hmp2prot_data', 'hmp216S_data', 'mixmpln_real_data', 'soilrep_data', 'ioral_data' ]\n",
    "# dataset_list = ['amgut1_data', 'amgut2_data']\n",
    "dataset_list = ['amgut2_data']\n",
    "\n",
    "\n",
    "for dataset_name in dataset_list:\n",
    "    dataset_df = pd.read_csv(f'{root_data_dir}/{dataset_name}_update.csv', header=0)\n",
    "    # Add 1 to all the values\n",
    "    # dataset_df = dataset_df + 1\n",
    "    # dataset_df = pd.read_csv(f'./{dataset_name}_update.csv', header=0)\n",
    "    # data_transformed = PowerTransformer().fit_transform(dataset_df)\n",
    "    # Fit transformer to data\n",
    "    # Transform data to normal distribution\n",
    "    data_transformed = StandardScaler().fit_transform(dataset_df)\n",
    "    dataset_df_scaled = pd.DataFrame(data_transformed, columns=dataset_df.columns) \n",
    "    # save the log transformed data\n",
    "    dataset_df_scaled.to_csv(f'{root_data_dir}/{dataset_name}_standard_scaled.csv', index=False)\n"
   ]
  },
  {
   "cell_type": "markdown",
   "metadata": {},
   "source": [
    "## Plot Data Transformation Graph"
   ]
  },
  {
   "cell_type": "code",
   "execution_count": null,
   "metadata": {},
   "outputs": [],
   "source": [
    "dataset_name = 'amgut1_data'\n",
    "taxa_count = 5\n",
    "\n",
    "# Set the style and size of the plots\n",
    "sns.set_style(\"whitegrid\")\n",
    "\n",
    "# Create three dataframes with some sample data\n",
    "df_raw = pd.read_csv(f'{root_data_dir}/{dataset_name}_update.csv')\n",
    "df_raw = df_raw.iloc[:, :taxa_count]\n",
    "\n",
    "df_ss = pd.read_csv(f'{root_data_dir}/{dataset_name}_standard_scaled.csv')\n",
    "df_ss = df_ss.iloc[:, :taxa_count]\n",
    "\n",
    "df_pt = pd.read_csv(f'{root_data_dir}/{dataset_name}_power_transformed.csv')\n",
    "df_pt = df_pt.iloc[:, :taxa_count]\n",
    "\n",
    "# Create a subplot with 1 row and 4 columns\n",
    "fig, axes = plt.subplots(1, 3)\n",
    "\n",
    "# increase the size of the plot\n",
    "fig.set_size_inches(18, 10)\n",
    "\n",
    "# Create a boxplot for each dataframe in each subplot\n",
    "sns.boxplot(data=df_raw, ax=axes[0])\n",
    "axes[0].set_title(f\"Raw\")\n",
    "\n",
    "sns.boxplot(data=df_ss, ax=axes[1])\n",
    "axes[1].set_title(f\"Standard Scaled\")\n",
    "\n",
    "sns.boxplot(data=df_pt, ax=axes[2])\n",
    "axes[2].set_title(f\"Yeo-Johnson Transformation\")\n",
    "\n",
    "# add x and y labels to the second subplot\n",
    "axes[0].set_ylabel(\"Abundance\", fontsize=14)\n",
    "axes[1].set_xlabel(\"Taxa\", fontsize=14)\n",
    "\n",
    "\n",
    "# Adjust the spacing and layout of the subplots\n",
    "plt.tight_layout()\n",
    "plt.show()\n",
    "\n",
    "# TODO: Uncomment below to save the plot\n",
    "# fig.savefig(f'{root_data_dir}/{dataset_name}_data_dist_boxplots.png', dpi=1500)\n"
   ]
  },
  {
   "cell_type": "markdown",
   "metadata": {},
   "source": [
    "## Sparsity Analysis for Public Datasets"
   ]
  },
  {
   "cell_type": "code",
   "execution_count": null,
   "metadata": {},
   "outputs": [],
   "source": [
    "dataset_list = ['amgut1_data', 'amgut2_data', 'baxter_crc_data', 'crohns_data', 'glne007_data', \n",
    "               'global_patterns_data', 'esophagus_data', 'enterotype_data', \n",
    "                'hmp2prot_data', 'hmp216S_data', 'mixmpln_real_data', \n",
    "                'soilrep_data', 'ioral_data']\n",
    "\n",
    "\n",
    "for dataset_name in dataset_list:\n",
    "    dataset_df = pd.read_csv(f'{root_data_dir}/{dataset_name}_update.csv', header=0)\n",
    "    sparsity = 1.0 - ( np.count_nonzero(dataset_df) / float(dataset_df.size) )\n",
    "    sparsity = sparsity * 100.0\n",
    "    print(f'{dataset_name} sparsity: {sparsity:.2f}%')\n"
   ]
  },
  {
   "cell_type": "markdown",
   "metadata": {},
   "source": [
    "## Sparsity Analysis for Necromass Dataset"
   ]
  },
  {
   "cell_type": "code",
   "execution_count": null,
   "metadata": {},
   "outputs": [],
   "source": [
    "necromass_data_dir = '/projects/genomic-ml/da2343/ml_project_1/data/necromass/'\n",
    "\n",
    "# /projects/genomic-ml/da2343/ml_project_1/data/necromass/Dec22_bacteria_conservative_r_same_raw.csv\n",
    "dataset_list = ['bacteria_conservative_raw', 'bacteria_genus_raw', \n",
    "                'fungi_conservative_raw', 'fungi_genus_raw', \n",
    "                'bacteria_fungi_conservative_raw', 'Dec22_bacteria_conservative_r_same_raw',\n",
    "                'Dec22_fungi_conservative_r_same_raw',\n",
    "                'Dec22_bacteria_fungi_conservative_r_same_raw'\n",
    "                ]\n",
    "\n",
    "for dataset_name in dataset_list:\n",
    "    dataset_df = pd.read_csv(f'{necromass_data_dir}/{dataset_name}.csv')\n",
    "    sparsity = 1.0 - ( np.count_nonzero(dataset_df) / float(dataset_df.size) )\n",
    "    sparsity = sparsity * 100.0\n",
    "    print(f'{dataset_name} sparsity: {sparsity:.2f}%')"
   ]
  },
  {
   "cell_type": "code",
   "execution_count": 15,
   "metadata": {},
   "outputs": [
    {
     "name": "stdout",
     "output_type": "stream",
     "text": [
      "AllSoilM1M3 sparsity: 44.07%\n",
      "LowMelanM1 sparsity: 46.62%\n",
      "HighMelanM1 sparsity: 51.84%\n",
      "LowMelanM3 sparsity: 43.00%\n",
      "HighMelanM3 sparsity: 48.87%\n"
     ]
    }
   ],
   "source": [
    "necromass_data_dir = '/projects/genomic-ml/da2343/ml_project_1/data/necromass/'\n",
    "\n",
    "dataset_list = [\n",
    "    {\n",
    "        \"name\" : \"AllSoilM1M3\",\n",
    "        \"start\" : 0,\n",
    "        \"end\" : 22\n",
    "    },\n",
    "    {\n",
    "        'name' : 'LowMelanM1',\n",
    "        'start' : 23,\n",
    "        'end' : 34\n",
    "    },\n",
    "    {\n",
    "        'name' : 'HighMelanM1',\n",
    "        'start' : 35,\n",
    "        'end' : 45\n",
    "    },\n",
    "    {\n",
    "        'name' : 'LowMelanM3',\n",
    "        'start' : 46,\n",
    "        'end' : 56\n",
    "    },\n",
    "    {\n",
    "        'name' : 'HighMelanM3',\n",
    "        'start' : 57,\n",
    "        'end' : 68\n",
    "    }\n",
    "]\n",
    "\n",
    "for dataset in dataset_list:\n",
    "    dataset_name = dataset['name']\n",
    "    dataset_start = dataset['start']\n",
    "    dataset_end = dataset['end']\n",
    "    \n",
    "    dataset_df = pd.read_csv(f'{necromass_data_dir}/Dec22_bacteria_fungi_conservative_r_same_raw.csv')\n",
    "    sub_df = dataset_df.iloc[dataset_start:dataset_end+1, :]\n",
    "    \n",
    "    sparsity = 1.0 - ( np.count_nonzero(sub_df) / float(sub_df.size) )\n",
    "    sparsity = sparsity * 100.0\n",
    "    print(f'{dataset_name} sparsity: {sparsity:.2f}%')"
   ]
  }
 ],
 "metadata": {
  "kernelspec": {
   "display_name": "cs685",
   "language": "python",
   "name": "python3"
  },
  "language_info": {
   "codemirror_mode": {
    "name": "ipython",
    "version": 3
   },
   "file_extension": ".py",
   "mimetype": "text/x-python",
   "name": "python",
   "nbconvert_exporter": "python",
   "pygments_lexer": "ipython3",
   "version": "3.9.16"
  },
  "orig_nbformat": 4,
  "vscode": {
   "interpreter": {
    "hash": "6c51af742e141fb8ae370995bc6149e53fca1868e122616bc9da9e07ef681ffa"
   }
  }
 },
 "nbformat": 4,
 "nbformat_minor": 2
}
