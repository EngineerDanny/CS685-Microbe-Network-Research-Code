{
 "cells": [
  {
   "cell_type": "code",
   "execution_count": 5,
   "metadata": {},
   "outputs": [
    {
     "name": "stdout",
     "output_type": "stream",
     "text": [
      "<class 'numpy.ndarray'>\n"
     ]
    }
   ],
   "source": [
    "import pandas as pd\n",
    "import numpy as np\n",
    "from datetime import date\n",
    "from sklearn.model_selection import KFold\n",
    "from sklearn.preprocessing import StandardScaler\n",
    "\n",
    "# declare some contants\n",
    "dataset_path = \"./amgut1_data.csv\"\n",
    "n_splits = 3\n",
    "\n",
    "# Import the csv file of the amgut1_data\n",
    "amgut_data = pd.read_csv(dataset_path, header=0, index_col=0)\n",
    "\n",
    "amgut_data_scaled = StandardScaler().fit_transform(amgut_data)\n",
    "print(type(amgut_data_scaled))\n",
    "\n",
    "# Save the scaled data to a csv file\n",
    "amgut_data_scaled = pd.DataFrame(amgut_data_scaled)\n",
    "amgut_data_scaled.to_csv(\"./amgut1_data_scaled.csv\")\n"
   ]
  }
 ],
 "metadata": {
  "kernelspec": {
   "display_name": "cs685",
   "language": "python",
   "name": "python3"
  },
  "language_info": {
   "codemirror_mode": {
    "name": "ipython",
    "version": 3
   },
   "file_extension": ".py",
   "mimetype": "text/x-python",
   "name": "python",
   "nbconvert_exporter": "python",
   "pygments_lexer": "ipython3",
   "version": "3.9.13 (main, Oct 13 2022, 21:15:33) \n[GCC 11.2.0]"
  },
  "orig_nbformat": 4,
  "vscode": {
   "interpreter": {
    "hash": "6c51af742e141fb8ae370995bc6149e53fca1868e122616bc9da9e07ef681ffa"
   }
  }
 },
 "nbformat": 4,
 "nbformat_minor": 2
}
