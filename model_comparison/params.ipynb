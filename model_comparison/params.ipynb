{
 "cells": [
  {
   "cell_type": "code",
   "execution_count": 40,
   "metadata": {},
   "outputs": [],
   "source": [
    "from datetime import datetime\n",
    "import pandas as pd\n",
    "import numpy as np\n",
    "import os\n",
    "import shutil\n",
    "\n",
    "amgut1 = pd.read_csv(\n",
    "    \"/home/da2343/cs685_fall22/data/amgut1_data_scaled.csv\", header=0, index_col=0)\n",
    "amgut2 = pd.read_csv(\n",
    "    \"/home/da2343/cs685_fall22/data/amgut2_data_update.csv\", header=0, index_col=0)\n",
    "\n",
    "dataset_list = [{\"dataset_name\": \"amgut1\", \"dataframe\": amgut1},\n",
    "                {\"dataset_name\": \"amgut2\", \"dataframe\": amgut2 }\n",
    "                ]\n",
    "params_df_list = []\n",
    "\n",
    "for dataset in dataset_list:\n",
    "    dataset_name = dataset[\"dataset_name\"]\n",
    "    df = dataset[\"dataframe\"]\n",
    "    n_row, n_col = df.shape\n",
    "\n",
    "    # arrange n_row into 10 folds\n",
    "    n_fold = 20\n",
    "    n_row_fold = int(n_row/n_fold)\n",
    "    n_row_fold_vec = np.ones(n_fold, dtype=int)*n_row_fold\n",
    "    n_row_fold_vec[:n_row % n_fold] += 1\n",
    "    n_row_fold_cumsum = np.cumsum(n_row_fold_vec)\n",
    "\n",
    "    n_col_list = np.arange(n_col)\n",
    "\n",
    "    params_dict = {\n",
    "        'Dataset': [dataset_name],\n",
    "        '# of Samples': n_row_fold_cumsum,\n",
    "        'Index of Prediction Col': n_col_list,\n",
    "    }\n",
    "\n",
    "    params_df = pd.MultiIndex.from_product(\n",
    "        params_dict.values(),\n",
    "        names=params_dict.keys()\n",
    "    ).to_frame().reset_index(drop=True)\n",
    "    \n",
    "    params_df_list.append(params_df)\n",
    "\n",
    "params_concat_df = pd.concat(params_df_list, ignore_index=True)\n"
   ]
  },
  {
   "cell_type": "code",
   "execution_count": 41,
   "metadata": {},
   "outputs": [
    {
     "name": "stdout",
     "output_type": "stream",
     "text": [
      "created params CSV files and job scripts, test with\n",
      "python demo_run.py\n",
      "SLURM_ARRAY_TASK_ID=0 bash /scratch/da2343/python_cluster_demo/run_one.sh\n"
     ]
    }
   ],
   "source": [
    "n_tasks, ncol = params_concat_df.shape\n",
    "date_time = datetime.now().strftime(\"%Y-%m-%d_%H:%M:%S\")\n",
    "job_name = \"python_cluster_demo\"\n",
    "job_dir = \"/scratch/da2343/\" + job_name\n",
    "results_dir = os.path.join(job_dir, \"results\")\n",
    "os.system(\"mkdir -p \"+results_dir)\n",
    "params_concat_df.to_csv(os.path.join(job_dir, \"params.csv\"), index=False)\n",
    "\n",
    "run_one_contents = f\"\"\"#!/bin/bash\n",
    "#SBATCH --array=0-{n_tasks-1}\n",
    "#SBATCH --time=24:00:00\n",
    "#SBATCH --mem=8GB\n",
    "#SBATCH --cpus-per-task=1\n",
    "#SBATCH --output={job_dir}/slurm-%A_%a.out\n",
    "#SBATCH --error={job_dir}/slurm-%A_%a.out\n",
    "#SBATCH --job-name={job_name}\n",
    "cd {job_dir}\n",
    "python run_one.py $SLURM_ARRAY_TASK_ID\n",
    "\"\"\"\n",
    "run_one_sh = os.path.join(job_dir, \"run_one.sh\")\n",
    "with open(run_one_sh, \"w\") as run_one_f:\n",
    "    run_one_f.write(run_one_contents)\n",
    "    \n",
    "run_orig_py = \"demo_run.py\"\n",
    "run_one_py = os.path.join(job_dir, \"run_one.py\")\n",
    "shutil.copyfile(run_orig_py, run_one_py)\n",
    "orig_dir = os.path.dirname(run_orig_py)\n",
    "orig_results = os.path.join(orig_dir, \"results\")\n",
    "os.system(\"mkdir -p \"+orig_results)\n",
    "orig_csv = os.path.join(orig_dir, \"params.csv\")\n",
    "params_concat_df.to_csv(orig_csv, index=False)\n",
    "\n",
    "msg = f\"\"\"created params CSV files and job scripts, test with\n",
    "python {run_orig_py}\n",
    "SLURM_ARRAY_TASK_ID=0 bash {run_one_sh}\"\"\"\n",
    "print(msg)"
   ]
  }
 ],
 "metadata": {
  "kernelspec": {
   "display_name": "cs685",
   "language": "python",
   "name": "python3"
  },
  "language_info": {
   "codemirror_mode": {
    "name": "ipython",
    "version": 3
   },
   "file_extension": ".py",
   "mimetype": "text/x-python",
   "name": "python",
   "nbconvert_exporter": "python",
   "pygments_lexer": "ipython3",
   "version": "3.9.13"
  },
  "orig_nbformat": 4,
  "vscode": {
   "interpreter": {
    "hash": "6c51af742e141fb8ae370995bc6149e53fca1868e122616bc9da9e07ef681ffa"
   }
  }
 },
 "nbformat": 4,
 "nbformat_minor": 2
}
