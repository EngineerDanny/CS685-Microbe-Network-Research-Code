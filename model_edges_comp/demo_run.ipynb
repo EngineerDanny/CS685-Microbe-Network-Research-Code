{
 "cells": [
  {
   "cell_type": "code",
   "execution_count": 1,
   "metadata": {},
   "outputs": [],
   "source": [
    "import pandas as pd\n",
    "import numpy as np"
   ]
  },
  {
   "cell_type": "code",
   "execution_count": 9,
   "metadata": {},
   "outputs": [
    {
     "name": "stdout",
     "output_type": "stream",
     "text": [
      "[1e-07, 1e-06, 1e-05, 0.0001, 0.001, 0.0031622776601683794, 0.0035548094542340383, 0.0039960660049183855, 0.004492095489575303, 0.005049696842501211, 0.005676512945983141, 0.00638113538910063, 0.007173222230180293, 0.008063630377039355, 0.009064564399516391, 0.01018974381401994, 0.011454591133016502, 0.012876443256998616, 0.01447478910642197, 0.01627153675076493, 0.018291313696171742, 0.020561804447636542, 0.023114129972596403, 0.025983274267132192, 0.029208563871598626, 0.032834206908266564, 0.03690989902941277, 0.041491504581414276, 0.0466418223213685, 0.052431446181698246, 0.058939732880995646, 0.06625588964387018, 0.0744801969388659, 0.08372538299416632, 0.09411816893118134, 0.10580100569471976, 0.11893402658735328, 0.13369724217080112, 0.150293007619222, 0.1689487963437188, 0.18992031790533345, 0.2134950229528756, 0.23999604322676243, 0.26978662063337916, 0.30327508609801296, 0.34092045644007607, 0.3832387259853825, 0.430809939152815, 0.4842861409572983, 0.5444003144043513, 0.611976427278536, 0.6879407260342452, 0.7733344315909786, 0.8693280110507257, 0.9772372209558107, 1.0, 3.1622776601683795]\n"
     ]
    }
   ],
   "source": [
    "# threshold_param_list = np.concatenate(\n",
    "#     (np.linspace(0, 0.4, 5), np.linspace(0.41, 0.6, 21), np.arange(0.7, 1.01, 0.1) ))\n",
    "\n",
    "threshold_param_list = np.arange(0, 1.01, 0.1)\n",
    "\n",
    "\n",
    "alpha_param_list = [10 ** x for x in np.concatenate((np.arange(-7, -2.5, 1), \n",
    "                                       np.linspace(-2.5, -0.01, 50), \n",
    "                                       np.arange(0, 1, 0.5)))  ]\n",
    "print(alpha_param_list)"
   ]
  },
  {
   "cell_type": "code",
   "execution_count": 14,
   "metadata": {},
   "outputs": [
    {
     "name": "stdout",
     "output_type": "stream",
     "text": [
      "[1e-10, 1e-09, 1e-08, 1e-07, 1e-06, 1e-05, 0.0001, 0.001, 0.01, 0.1, 1, 10]\n"
     ]
    }
   ],
   "source": [
    "alpha_param_list = [10 ** x for x in range(-10, 2)]\n",
    "print(alpha_param_list)"
   ]
  },
  {
   "cell_type": "code",
   "execution_count": null,
   "metadata": {},
   "outputs": [],
   "source": [
    "[1e-10, 1e-09, 1e-08, 1e-07, 1e-06, 1e-05, 0.0001, 0.001, 0.01, 0.1, 1, 10, 100, 1000, 10000, 100000, 1000000, 10000000, 100000000, 1000000000]"
   ]
  }
 ],
 "metadata": {
  "kernelspec": {
   "display_name": "cs685",
   "language": "python",
   "name": "python3"
  },
  "language_info": {
   "codemirror_mode": {
    "name": "ipython",
    "version": 3
   },
   "file_extension": ".py",
   "mimetype": "text/x-python",
   "name": "python",
   "nbconvert_exporter": "python",
   "pygments_lexer": "ipython3",
   "version": "3.9.16"
  },
  "orig_nbformat": 4
 },
 "nbformat": 4,
 "nbformat_minor": 2
}
