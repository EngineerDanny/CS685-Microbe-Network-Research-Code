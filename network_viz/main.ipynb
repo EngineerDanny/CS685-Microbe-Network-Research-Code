{
 "cells": [
  {
   "cell_type": "code",
   "execution_count": null,
   "metadata": {},
   "outputs": [],
   "source": [
    "# import the necessary libraries\n",
    "import pandas as pd\n",
    "import networkx\n",
    "from bokeh.plotting import figure, show\n",
    "from bokeh.models import GraphRenderer, StaticLayoutProvider, PointDrawTool\n",
    "\n",
    "from bokeh.io import output_notebook, show, save"
   ]
  },
  {
   "cell_type": "code",
   "execution_count": null,
   "metadata": {},
   "outputs": [],
   "source": [
    "output_notebook()"
   ]
  },
  {
   "cell_type": "code",
   "execution_count": null,
   "metadata": {},
   "outputs": [],
   "source": [
    "got_df = pd.read_csv('got-edges.csv')\n",
    "\n",
    "got_df"
   ]
  },
  {
   "cell_type": "code",
   "execution_count": null,
   "metadata": {},
   "outputs": [],
   "source": [
    "G = networkx.from_pandas_edgelist(got_df, 'Source', 'Target', 'Weight')"
   ]
  },
  {
   "cell_type": "code",
   "execution_count": null,
   "metadata": {},
   "outputs": [],
   "source": [
    "import bokeh\n",
    "\n",
    "print(bokeh.__version__)"
   ]
  },
  {
   "cell_type": "code",
   "execution_count": null,
   "metadata": {},
   "outputs": [],
   "source": [
    "from bokeh.io import output_notebook, show, save\n",
    "from bokeh.models import Range1d, Circle, ColumnDataSource, MultiLine, PointDrawTool\n",
    "from bokeh.plotting import figure\n",
    "from bokeh.plotting import from_networkx\n",
    "\n",
    "#Choose a title!\n",
    "title = 'Game of Thrones Network'\n",
    "\n",
    "#Create a plot — set dimensions, toolbar, and title\n",
    "plot = figure(tooltips = [(\"Character\", \"@index\")],\n",
    "              tools=\"pan,wheel_zoom,save,reset\", \n",
    "              active_scroll='wheel_zoom',\n",
    "            x_range=Range1d(-10.1, 10.1), \n",
    "            y_range=Range1d(-10.1, 10.1), \n",
    "            title=title)\n",
    "\n",
    "network_graph = from_networkx(G, networkx.spring_layout, scale=10, center=(0, 0))\n",
    "network_graph.node_renderer.glyph = Circle(size=15, fill_color='skyblue')\n",
    "network_graph.edge_renderer.glyph = MultiLine(line_alpha=0.5, line_width=1)\n",
    "\n",
    "# add a point draw tool to enable drag and drop functionality for the nodes\n",
    "plot.add_tools(PointDrawTool(renderers=[network_graph.node_renderer], empty_value='black'))\n",
    "\n",
    "plot.renderers.append(network_graph)\n",
    "\n",
    "show(plot)\n",
    "save(plot, filename=f\"{title}.html\")\n"
   ]
  },
  {
   "cell_type": "code",
   "execution_count": null,
   "metadata": {},
   "outputs": [],
   "source": [
    "# import the necessary libraries\n",
    "import pandas as pd\n",
    "import networkx as nx\n",
    "from bokeh.plotting import figure, show\n",
    "from bokeh.models import GraphRenderer, StaticLayoutProvider, PointDrawTool\n",
    "\n",
    "# create a list of tuples representing the edges\n",
    "# edges = [('A', 'B'), ('A', 'C'), ('B', 'D'), ('C', 'D'), ('D', 'E')]\n",
    "\n",
    "# # create a dummy df from the edges\n",
    "# df = pd.DataFrame(edges)\n",
    "\n",
    "# # create a network graph from the data\n",
    "# G = nx.from_pandas_edgelist(df, 0, 1)\n",
    "\n",
    "# initialize a plot\n",
    "plot = figure(title='Network graph demonstration', \n",
    "      x_range=Range1d(-10.1, 10.1), \n",
    "            y_range=Range1d(-10.1, 10.1), \n",
    "              tools='', \n",
    "              toolbar_location=None)\n",
    "\n",
    "# create a graph renderer\n",
    "graph = GraphRenderer()\n",
    "\n",
    "# use the spring layout algorithm to position the nodes\n",
    "graph_layout = nx.spring_layout(G, scale=10, center=(0, 0))\n",
    "\n",
    "# use the static layout provider to supply coordinates to the graph\n",
    "graph.layout_provider = StaticLayoutProvider(graph_layout=graph_layout)\n",
    "\n",
    "# add a point draw tool to enable drag and drop functionality for the nodes\n",
    "# plot.add_tools(PointDrawTool(renderers=[graph.node_renderer], empty_value='black'))\n",
    "plot.add_tools(PointDrawTool(renderers = [graph_renderer.node_renderer], empty_value = 'black'))\n",
    "\n",
    "# render the graph\n",
    "plot.renderers.append(graph)\n",
    "\n",
    "# display the plot\n",
    "show(plot)\n"
   ]
  }
 ],
 "metadata": {
  "kernelspec": {
   "display_name": "cs499f22",
   "language": "python",
   "name": "python3"
  },
  "language_info": {
   "codemirror_mode": {
    "name": "ipython",
    "version": 3
   },
   "file_extension": ".py",
   "mimetype": "text/x-python",
   "name": "python",
   "nbconvert_exporter": "python",
   "pygments_lexer": "ipython3",
   "version": "3.9.16"
  },
  "orig_nbformat": 4
 },
 "nbformat": 4,
 "nbformat_minor": 2
}
