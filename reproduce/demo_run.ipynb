{
 "cells": [
  {
   "cell_type": "code",
   "execution_count": 15,
   "metadata": {},
   "outputs": [],
   "source": [
    "import sys\n",
    "import os\n",
    "import pandas as pd\n",
    "import warnings\n",
    "import numpy as np\n",
    "from datetime import date\n",
    "from sklearn.linear_model import LassoCV\n",
    "from sklearn.model_selection import KFold\n",
    "from sklearn.metrics import mean_squared_error\n",
    "sys.path.append(os.path.abspath(\"/projects/genomic-ml/da2343/ml_project_1/shared\"))\n",
    "from model_header import *\n",
    "from constants import *"
   ]
  },
  {
   "cell_type": "code",
   "execution_count": 16,
   "metadata": {},
   "outputs": [],
   "source": [
    "warnings.filterwarnings(\"ignore\")\n",
    "np.set_printoptions(threshold=np.inf)\n",
    "params_df = pd.read_csv(\"params.csv\")\n",
    "param_row = 0\n",
    "param_dict = dict(params_df.iloc[param_row, :])\n",
    "data_set_name = param_dict[\"Dataset\"]\n",
    "n_samples = param_dict[\"# of Total Samples\"]\n",
    "index_of_pred_col = param_dict[\"Index of Prediction Col\"]\n",
    "\n",
    "dataset_path = dataset_dict[data_set_name]\n",
    "n_splits = 3\n",
    "# Import the csv file of the dataset\n",
    "df = pd.read_csv(dataset_path, header=0)\n",
    "learner_dict = {\n",
    "    \"Featureless\": Featureless(),\n",
    "    \"LassoCV\": LassoCV(random_state=1),\n",
    "}\n",
    "\n",
    "test_err_list = []\n",
    "pred_col_name = df.columns[index_of_pred_col]\n",
    "output_vec = df.iloc[:, index_of_pred_col].to_numpy().ravel()\n",
    "input_mat = df.drop(pred_col_name, axis=1).to_numpy()"
   ]
  },
  {
   "cell_type": "code",
   "execution_count": 18,
   "metadata": {},
   "outputs": [
    {
     "data": {
      "text/plain": [
       "(69,)"
      ]
     },
     "execution_count": 18,
     "metadata": {},
     "output_type": "execute_result"
    }
   ],
   "source": [
    "output_vec.shape"
   ]
  },
  {
   "cell_type": "code",
   "execution_count": null,
   "metadata": {},
   "outputs": [],
   "source": [
    "k_fold = KFold(n_splits=n_splits, shuffle=True, random_state=1)\n",
    "for fold_id, indices in enumerate(k_fold.split(input_mat)):\n",
    "    index_dict = dict(zip([\"train\", \"test\"], indices))\n",
    "    set_data_dict = {}\n",
    "    for set_name, index_vec in index_dict.items():\n",
    "        set_data_dict[set_name] = {\n",
    "            \"X\": input_mat[index_vec],\n",
    "            \"y\": output_vec[index_vec],\n",
    "        }\n",
    "    # Fit the learner to the training data\n",
    "    # Predict the test data\n",
    "    # Calculate the test error\n",
    "    for learner_name, learner in learner_dict.items():\n",
    "        learner.fit(**set_data_dict[\"train\"])\n",
    "        pred_y = learner.predict(set_data_dict[\"test\"][\"X\"])\n",
    "        actual_y = set_data_dict[\"test\"][\"y\"]\n",
    "        mse = mean_squared_error(actual_y, pred_y)\n",
    "        test_err_list.append(\n",
    "            pd.DataFrame(\n",
    "                {\n",
    "                    \"Mean Squared Error\": mse,\n",
    "                    \"FoldID\": fold_id,\n",
    "                    \"# of Total Samples\": n_samples,\n",
    "                    \"Dataset\": data_set_name,\n",
    "                    \"Index of Predicted Column\": index_of_pred_col,\n",
    "                    \"pred_col_name\": pred_col_name,\n",
    "                    \"Algorithm\": learner_name\n",
    "                },\n",
    "                index=[0],\n",
    "            )\n",
    "        )\n",
    "test_err_df = pd.concat(test_err_list)"
   ]
  },
  {
   "cell_type": "code",
   "execution_count": null,
   "metadata": {},
   "outputs": [],
   "source": [
    "# Save dataframe as a csv to output directory\n",
    "out_file = f\"results/{param_row}.csv\"\n",
    "test_err_df.to_csv(out_file, encoding=\"utf-8\", index=False)\n",
    "print(\"Done!!\")"
   ]
  }
 ],
 "metadata": {
  "kernelspec": {
   "display_name": "cs685",
   "language": "python",
   "name": "python3"
  },
  "language_info": {
   "codemirror_mode": {
    "name": "ipython",
    "version": 3
   },
   "file_extension": ".py",
   "mimetype": "text/x-python",
   "name": "python",
   "nbconvert_exporter": "python",
   "pygments_lexer": "ipython3",
   "version": "3.9.16"
  }
 },
 "nbformat": 4,
 "nbformat_minor": 2
}
