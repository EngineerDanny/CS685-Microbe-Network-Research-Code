{
 "cells": [
  {
   "cell_type": "code",
   "execution_count": null,
   "metadata": {},
   "outputs": [],
   "source": [
    "from plotnine import *\n",
    "import pandas as pd"
   ]
  },
  {
   "cell_type": "code",
   "execution_count": null,
   "metadata": {},
   "outputs": [],
   "source": [
    "time = \"2024-01-24_20:40\"\n",
    "time = \"2024-01-30_14:24\"\n",
    "# time = \"2024-01-30_15:31\" # classifier\n",
    "time = \"2024-01-31_11:30\" # classifier_reg\n",
    "# time = \"2024-02-04_19:53\" # classifier_reg\n",
    "# time = \"2024-02-04_22:36\" # classifier_reg\n",
    "# time = \"2024-02-05_12:00\" # reg\n",
    "# time = \"2024-02-05_22:08\" # reg\n",
    "# time = \"2024-02-06_11:56\" # classifier_reg\n",
    "time = \"2024-02-06_14:07\" # classifier_reg\n",
    "# time = \"2024-02-06_14:55\" # classifier_reg\n",
    "time = \"2024-02-06_15:45\" # classifier_reg\n",
    "# time = \"2024-02-06_21:47\" # reg\n",
    "# time = \"2024-02-09_12:57\" # classifier_reg\n",
    "time = \"2024-02-14_14:49\" # classifier_reg\n",
    "\n",
    "df = pd.read_csv(f\"/projects/genomic-ml/da2343/ml_project_1/reproduce/results/{time}_results.csv\")\n",
    "# df has columns: ['Mean Squared Error', 'FoldID', 'Dataset', 'Index of Predicted Column', 'Predicted Column Name', 'Algorithm']\n",
    "# drop Index of Predicted Column\n",
    "df = df.drop(columns=['Index of Predicted Column'])\n",
    "\n",
    "# group df by dataset, algorithm, and predicted column name\n",
    "# find mean of mean squared error\n",
    "df = df.groupby(['Dataset', 'Algorithm', 'Predicted Column Name', 'FoldID']).mean().reset_index()\n",
    "\n",
    "df['train.groups'] = \"all\"\n",
    "\n",
    "df = df.rename(columns={\"Mean Squared Error\": \"regr.mse\"})\n",
    "df = df.rename(columns={\"Predicted Column Name\": \"task_id\"})\n",
    "df = df.rename(columns={\"FoldID\": \"test.fold\"})\n",
    "df = df.rename(columns={\"Algorithm\": \"algorithm\"})\n",
    "df = df.rename(columns={\"Dataset\": \"test.group\"})\n",
    "df\n",
    "# save to csv\n",
    "# df.to_csv(f\"{time}_reg_results_R.csv\", index=False)"
   ]
  },
  {
   "cell_type": "code",
   "execution_count": null,
   "metadata": {},
   "outputs": [],
   "source": [
    "from plotnine import *\n",
    "import pandas as pd\n",
    "\n",
    "time = \"2024-02-14_18:33\" # classifier_reg\n",
    "time = \"2024-02-14_18:48\" # classifier_reg\n",
    "\n",
    "df = pd.read_csv(f\"/projects/genomic-ml/da2343/ml_project_1/reproduce/results/{time}_results.csv\")\n",
    "df = df.drop(columns=['Index of Predicted Column'])\n",
    "df = df.rename(columns={'Predicted Column Name': 'Column_Name'})\n",
    "df = df.groupby(['Dataset', 'Algorithm', 'Column_Name', 'FoldID']).mean().reset_index()\n",
    "df = df.rename(columns={\"Mean Squared Error\": \"MSE\"})\n",
    "df['train.groups'] = \"all\"\n",
    "\n",
    "\n",
    "df1 = df[(df['Column_Name'] == \"X108747\") | (df['Column_Name'] == \"X119010\") | (df['Column_Name'] == \"X127309\") | (df['Column_Name'] == \"X181892\") | (df['Column_Name'] == \"X185451\") | (df['Column_Name'] == \"X198941\")  ]\n",
    "df2 = df[(df['Column_Name'] == \"f__Bacteroidaceae\") | (df['Column_Name'] == \"f__Enterobacteriaceae\") | (df['Column_Name'] == \"f__Lachnospiraceae\") | (df['Column_Name'] == \"f__Pasteurellaceae\") | (df['Column_Name'] == \"f__Ruminococcaceae\") ]\n",
    "\n",
    "df3 = df[(df['Column_Name'] == \"Abiotrophia\") | (df['Column_Name'] == \"Actinobaculum\") | (df['Column_Name'] == \"Actinomyces\") | (df['Column_Name'] == \"Alloprevotella\") | (df['Column_Name'] == \"Alistipes\") ]\n",
    "\n",
    "\n",
    "df = pd.concat([df1, df2, df3])\n",
    "\n",
    "df"
   ]
  },
  {
   "cell_type": "code",
   "execution_count": null,
   "metadata": {},
   "outputs": [],
   "source": [
    "\n",
    "from plotnine import *\n",
    "import pandas as pd\n",
    "\n",
    "time = \"2024-01-24_20:40\"\n",
    "time = \"2024-01-30_14:24\"\n",
    "time = \"2024-01-30_15:31\" # classifier\n",
    "time = \"2024-01-31_11:30\" # classifier_reg\n",
    "time = \"2024-02-04_19:53\" # classifier_reg\n",
    "time = \"2024-02-04_22:36\" # classifier_reg\n",
    "time = \"2024-02-05_10:50\" # reg\n",
    "time = \"2024-02-05_12:00\" # reg\n",
    "time = \"2024-02-05_22:08\" # reg\n",
    "time = \"2024-02-06_11:56\" # classifier_reg\n",
    "time = \"2024-02-06_14:07\" # classifier_reg\n",
    "# time = \"2024-02-06_14:55\" # classifier_reg\n",
    "# time = \"2024-02-06_15:08\" # classifier_reg\n",
    "time = \"2024-02-06_15:45\" # classifier_reg\n",
    "\n",
    "\n",
    "df = pd.read_csv(f\"/projects/genomic-ml/da2343/ml_project_1/reproduce/results/{time}_results.csv\")\n",
    "df = df.drop(columns=['Index of Predicted Column'])\n",
    "df = df.rename(columns={'Predicted Column Name': 'Column_Name'})\n",
    "df = df.groupby(['Dataset', 'Algorithm', 'Column_Name', 'FoldID']).mean().reset_index()\n",
    "\n",
    "df1 = df[(df['Column_Name'] == \"X108747\") | (df['Column_Name'] == \"X119010\") | (df['Column_Name'] == \"X127309\") | (df['Column_Name'] == \"X181892\") | (df['Column_Name'] == \"X185451\") | (df['Column_Name'] == \"X198941\")  ]\n",
    "df2 = df[(df['Column_Name'] == \"f__Bacteroidaceae\") | (df['Column_Name'] == \"f__Enterobacteriaceae\") | (df['Column_Name'] == \"f__Lachnospiraceae\") | (df['Column_Name'] == \"f__Pasteurellaceae\") | (df['Column_Name'] == \"f__Ruminococcaceae\") ]\n",
    "\n",
    "df3 = df[(df['Column_Name'] == \"Abiotrophia\") | (df['Column_Name'] == \"Actinobaculum\") | (df['Column_Name'] == \"Actinomyces\") | (df['Column_Name'] == \"Alloprevotella\") | (df['Column_Name'] == \"Alistipes\") ]\n",
    "\n",
    "\n",
    "df = pd.concat([df1, df2, df3])\n",
    "\n",
    "# save\n",
    "df.to_csv(f\"{time}_results_other_reg_R.csv\", index=False)"
   ]
  },
  {
   "cell_type": "markdown",
   "metadata": {},
   "source": [
    "# REGRESSION"
   ]
  },
  {
   "cell_type": "code",
   "execution_count": null,
   "metadata": {},
   "outputs": [],
   "source": [
    "p = ggplot(df)\n",
    "p = p + geom_point(aes(x=\"MSE\", y=\"Algorithm\", color=\"factor(FoldID)\"))\n",
    "p = p + facet_grid(\"Dataset ~ Column_Name\", scales=\"free_x\")\n",
    "p = p + labs(x = \"Mean Squared Error\", y=\"Algorithm\")\n",
    "p = p + theme(axis_text_x=element_text(angle=90), figure_size=(40, 5))\n",
    "p = p + scale_x_log10()\n",
    "print(p)"
   ]
  },
  {
   "cell_type": "code",
   "execution_count": null,
   "metadata": {},
   "outputs": [],
   "source": [
    "\n",
    "df[\"algorithm\"] = pd.Categorical(df[\"algorithm\"], categories=[\"LassoCV\", \"LogisticRegLassoCV\", \"Featureless\"])\n",
    "\n",
    "p = ggplot(df)\n",
    "p = p + geom_point(aes(x=\"regr.mse\", y=\"factor(test.fold)\", color=\"factor(algorithm)\"))\n",
    "p = p + facet_wrap(\"~test.group + task_id\", scales=\"free_x\", labeller='label_both')\n",
    "p = p + labs(x = \"Mean Squared Error\", y=\"FoldID\")\n",
    "p = p + theme( panel_spacing=0.2, figure_size=(15, 10))\n",
    "p = p + scale_x_log10()\n",
    "print(p)"
   ]
  },
  {
   "cell_type": "code",
   "execution_count": null,
   "metadata": {},
   "outputs": [],
   "source": [
    "p.save(filename = \"plot.png\", dpi=3000)\n"
   ]
  },
  {
   "cell_type": "markdown",
   "metadata": {},
   "source": [
    "# CLASSIFICATION"
   ]
  },
  {
   "cell_type": "code",
   "execution_count": null,
   "metadata": {},
   "outputs": [],
   "source": [
    "from plotnine import *\n",
    "import pandas as pd\n",
    "\n",
    "time = \"2024-02-09_11:36\" # classifier\n",
    "df = pd.read_csv(f\"/projects/genomic-ml/da2343/ml_project_1/reproduce/results/{time}_results.csv\")\n",
    "df"
   ]
  },
  {
   "cell_type": "code",
   "execution_count": null,
   "metadata": {},
   "outputs": [],
   "source": [
    "\n",
    "df = df.drop(columns=['Index of Predicted Column', 'FPR', 'TPR'])\n",
    "df = df.groupby(['Dataset', 'Algorithm', 'Predicted Column Name', 'FoldID']).mean().reset_index()\n",
    "\n",
    "df['train.groups'] = \"all\"\n",
    "\n",
    "df = df.rename(columns={\"Test Accuracy\": \"accuracy\"})\n",
    "df = df.rename(columns={\"Predicted Column Name\": \"task_id\"})\n",
    "df = df.rename(columns={\"FoldID\": \"test.fold\"})\n",
    "df = df.rename(columns={\"Algorithm\": \"algorithm\"})\n",
    "df = df.rename(columns={\"Dataset\": \"test.group\"})\n",
    "df\n",
    "# save to csv\n",
    "df.to_csv(f\"{time}_classification_results_R.csv\", index=False)"
   ]
  },
  {
   "cell_type": "code",
   "execution_count": null,
   "metadata": {},
   "outputs": [],
   "source": [
    "\n",
    "p = ggplot(log_df)\n",
    "p = p + geom_point(aes(x=\"Test Accuracy\", y=\"Dataset\", color=\"Algorithm\"))\n",
    "p = p + facet_grid(\"~Predicted Column Name\", scales=\"free\")\n",
    "p = p + labs(x=\"Accuracy\", y=\"Dataset\")\n",
    "p = p + theme(axis_text_x=element_text(angle=90))\n",
    "p = p + theme(figure_size=(45, 2))\n",
    "# p = p + scale_x_log10()\n",
    "print(p)"
   ]
  },
  {
   "cell_type": "markdown",
   "metadata": {},
   "source": [
    "# ROC CURVE"
   ]
  },
  {
   "cell_type": "code",
   "execution_count": null,
   "metadata": {},
   "outputs": [],
   "source": [
    "from plotnine import *\n",
    "import pandas as pd\n",
    "import numpy as np\n",
    "\n",
    "time = \"2024-01-24_20:40\"\n",
    "time = \"2024-01-30_14:24\"\n",
    "time = \"2024-01-30_15:31\" # classifier\n",
    "time = \"2024-01-31_11:30\" # classifier_reg\n",
    "time = \"2024-02-02_11:33\"\n",
    "time = \"2024-02-09_11:36\" # classifier\n",
    "\n",
    "df = pd.read_csv(f\"/projects/genomic-ml/da2343/ml_project_1/reproduce/results/{time}_results.csv\")\n",
    "# df has columns: ['Mean Squared Error', 'FoldID', 'Dataset', 'Index of Predicted Column', 'Predicted Column Name', 'Algorithm']\n",
    "# drop Index of Predicted Column\n",
    "df = df.drop(columns=['Index of Predicted Column', 'Test Accuracy'])\n",
    "df = df.rename(columns={'Predicted Column Name': 'Column_Name'})\n",
    "\n",
    "# Convert 'FPR' and 'TPR' columns from string to array\n",
    "df['FPR'] = df['FPR'].apply(lambda x:  np.fromstring(x[1:-1], sep=\" \"))\n",
    "df['TPR'] = df['TPR'].apply(lambda x:  np.fromstring(x[1:-1], sep=\" \"))\n",
    "\n",
    "# Define a function to check if a list contains a nan\n",
    "def contains_nan(lst):\n",
    "    return np.isnan(lst).any()\n",
    "# Apply the function to 'FPR' and 'TPR' columns and replace the list with np.nan if it contains a nan\n",
    "df['FPR'] = df['FPR'].apply(lambda x: np.nan if contains_nan(x) else x)\n",
    "df['TPR'] = df['TPR'].apply(lambda x: np.nan if contains_nan(x) else x)\n",
    "# Drop the rows with nan values\n",
    "df = df.dropna()\n",
    "\n",
    "# def explode_array(df, col):\n",
    "#     return df[col].apply(pd.Series).stack().reset_index(level=1, drop=True).rename(col)\n",
    "# df = df.drop(['FPR', 'TPR'], axis=1).join(explode_array(df, 'FPR')).join(explode_array(df, 'TPR'))\n",
    "# df = df[df['FoldID'] == 0]\n",
    "\n",
    "df = df.rename(columns={\"Test Accuracy\": \"accuracy\"})\n",
    "df = df.rename(columns={\"Column_Name\": \"task_id\"})\n",
    "df = df.rename(columns={\"FoldID\": \"test.fold\"})\n",
    "df = df.rename(columns={\"Algorithm\": \"algorithm\"})\n",
    "df = df.rename(columns={\"Dataset\": \"test.group\"})\n",
    "df['train.groups'] = \"all\"\n",
    "df = df[df['test.fold'] == 0]\n",
    "\n",
    "# df = df[(df['task_id'] == \"Absidia\") |  (df['task_id'] == \"Mucilaginibacter\")]\n",
    "\n",
    "# def explode_array(df, col):\n",
    "#     return df[col].apply(pd.Series).stack().reset_index(level=1, drop=True).rename(col)\n",
    "# df = df.drop(['FPR', 'TPR'], axis=1).join(explode_array(df, 'FPR')).join(explode_array(df, 'TPR'))\n",
    "\n",
    "# keep all unique combinations of test.group, algorithm, task_id\n",
    "df = df.drop_duplicates(subset=['test.group', 'algorithm', 'task_id'])\n",
    "\n",
    "# def explode_array(df, col):\n",
    "#     return df[col].apply(pd.Series).stack().reset_index(level=1, drop=True).rename(col)\n",
    "# df = df.drop(['FPR', 'TPR'], axis=1).join(explode_array(df, 'FPR')).join(explode_array(df, 'TPR'))\n",
    "df = df[(df['task_id'] == \"Absidia\")]\n",
    "df\n",
    "# df.to_csv(f\"{time}_results_roc_R.csv\", index=False)"
   ]
  }
 ],
 "metadata": {
  "kernelspec": {
   "display_name": "cs685",
   "language": "python",
   "name": "python3"
  },
  "language_info": {
   "codemirror_mode": {
    "name": "ipython",
    "version": 3
   },
   "file_extension": ".py",
   "mimetype": "text/x-python",
   "name": "python",
   "nbconvert_exporter": "python",
   "pygments_lexer": "ipython3",
   "version": "3.9.16"
  }
 },
 "nbformat": 4,
 "nbformat_minor": 2
}
